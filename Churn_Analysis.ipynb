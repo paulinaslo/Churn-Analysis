{
  "cells": [
    {
      "cell_type": "markdown",
      "metadata": {
        "id": "view-in-github",
        "colab_type": "text"
      },
      "source": [
        "<a href=\"https://colab.research.google.com/github/paulinaslo/Churn-Analysis/blob/main/Churn_Analysis.ipynb\" target=\"_parent\"><img src=\"https://colab.research.google.com/assets/colab-badge.svg\" alt=\"Open In Colab\"/></a>"
      ]
    },
    {
      "cell_type": "markdown",
      "metadata": {
        "id": "_ypa6j_it1MQ"
      },
      "source": [
        "# **Analiza migracji klientów**"
      ]
    },
    {
      "cell_type": "markdown",
      "metadata": {
        "id": "1ag9ILAmugGY"
      },
      "source": [
        "##### Głównym celem projektu jest stworzenie modelu, który będzie w stanie skutecznie przewidywać, czy dany klient opuści usługę. W tym celu porównam regresję logistyczną i drzewo decyzyjne, optymalizując parametry modelu dla uzyskania jak najlepszej skuteczności.\n"
      ]
    },
    {
      "cell_type": "markdown",
      "metadata": {
        "id": "YlK1SgW5uiRH"
      },
      "source": [
        "### **Opis danych**"
      ]
    },
    {
      "cell_type": "markdown",
      "metadata": {
        "id": "eftwzOqju1_9"
      },
      "source": [
        "Zestaw danych klientów obejmuje różnorodne informacje na temat ich aktywności i charakterystyk. Poniżej przedstawiam opis kluczowych kolumn:\n",
        "\n",
        "*   customer_id: Unikalny identyfikator klienta\n",
        "*   credit_score: Ocena kredytowa klienta\n",
        "*   country: Kraj, w którym klient mieszka\n",
        "*   gender: Płeć klienta\n",
        "*   age: Wiek klienta\n",
        "*   tenure: Okres korzystania z usług\n",
        "*   balance: Saldo na koncie klienta\n",
        "*   products_number: Liczba produktów posiadanych przez klienta\n",
        "*   credit_card: Informacja, czy klient posiada kartę kredytową (1 - tak, 0 - nie)\n",
        "*   active_member: Informacja, czy klient jest aktywnym członkiem (1 - tak, 0 - nie)\n",
        "*   estimated_salary: Szacowana roczna pensja klienta\n",
        "*   churn: Zmienna binarna określająca, czy klient odszedł (1 - tak, 0 - nie)\n"
      ]
    },
    {
      "cell_type": "markdown",
      "metadata": {
        "id": "1LfzCuI5v61P"
      },
      "source": [
        "### **Inicjalizacja SparkSession**"
      ]
    },
    {
      "cell_type": "code",
      "execution_count": 8,
      "metadata": {
        "id": "beT-zjBqFZLm"
      },
      "outputs": [],
      "source": [
        "# install java\n",
        "!apt-get install openjdk-8-jdk-headless -qq > /dev/null\n",
        "\n",
        "# install spark (change the version number if needed)\n",
        "!wget -q https://archive.apache.org/dist/spark/spark-3.1.2/spark-3.1.2-bin-hadoop3.2.tgz\n",
        "\n",
        "# unzip the spark file to the current folder\n",
        "!tar xf spark-3.1.2-bin-hadoop3.2.tgz\n",
        "\n",
        "# set your spark folder to your system path environment.\n",
        "import os\n",
        "os.environ[\"JAVA_HOME\"] = \"/usr/lib/jvm/java-8-openjdk-amd64\"\n",
        "os.environ[\"SPARK_HOME\"] = \"/content/spark-3.1.2-bin-hadoop3.2\"\n",
        "\n",
        "# install findspark using pip\n",
        "!pip install -q findspark\n",
        "\n",
        "import findspark\n",
        "findspark.init()\n",
        "\n",
        "from pyspark.sql import SparkSession\n",
        "\n",
        "spark = SparkSession.builder.master(\"local[*]\").appName(\"Churn Prediction\").getOrCreate()\n"
      ]
    },
    {
      "cell_type": "markdown",
      "metadata": {
        "id": "-Swvm5vpZmQL"
      },
      "source": [
        "### **Załadowanie** **danych**"
      ]
    },
    {
      "cell_type": "code",
      "source": [
        "df_spark = spark.read.csv(\"Bank_Customer_Churn_Prediction.csv\", header=True, inferSchema=True)"
      ],
      "metadata": {
        "id": "c6m4iAZfLUHk"
      },
      "execution_count": 9,
      "outputs": []
    },
    {
      "cell_type": "code",
      "source": [
        "df_spark.show()"
      ],
      "metadata": {
        "colab": {
          "base_uri": "https://localhost:8080/"
        },
        "id": "kY6G2hqKLcqo",
        "outputId": "9cea9ea8-36fe-443a-e233-da2a108ca925"
      },
      "execution_count": 10,
      "outputs": [
        {
          "output_type": "stream",
          "name": "stdout",
          "text": [
            "+-----------+------------+-------+------+---+------+---------+---------------+-----------+-------------+----------------+-----+\n",
            "|customer_id|credit_score|country|gender|age|tenure|  balance|products_number|credit_card|active_member|estimated_salary|churn|\n",
            "+-----------+------------+-------+------+---+------+---------+---------------+-----------+-------------+----------------+-----+\n",
            "|   15634602|         619| France|Female| 42|     2|      0.0|              1|          1|            1|       101348.88|    1|\n",
            "|   15647311|         608|  Spain|Female| 41|     1| 83807.86|              1|          0|            1|       112542.58|    0|\n",
            "|   15619304|         502| France|Female| 42|     8| 159660.8|              3|          1|            0|       113931.57|    1|\n",
            "|   15701354|         699| France|Female| 39|     1|      0.0|              2|          0|            0|        93826.63|    0|\n",
            "|   15737888|         850|  Spain|Female| 43|     2|125510.82|              1|          1|            1|         79084.1|    0|\n",
            "|   15574012|         645|  Spain|  Male| 44|     8|113755.78|              2|          1|            0|       149756.71|    1|\n",
            "|   15592531|         822| France|  Male| 50|     7|      0.0|              2|          1|            1|         10062.8|    0|\n",
            "|   15656148|         376|Germany|Female| 29|     4|115046.74|              4|          1|            0|       119346.88|    1|\n",
            "|   15792365|         501| France|  Male| 44|     4|142051.07|              2|          0|            1|         74940.5|    0|\n",
            "|   15592389|         684| France|  Male| 27|     2|134603.88|              1|          1|            1|        71725.73|    0|\n",
            "|   15767821|         528| France|  Male| 31|     6|102016.72|              2|          0|            0|        80181.12|    0|\n",
            "|   15737173|         497|  Spain|  Male| 24|     3|      0.0|              2|          1|            0|        76390.01|    0|\n",
            "|   15632264|         476| France|Female| 34|    10|      0.0|              2|          1|            0|        26260.98|    0|\n",
            "|   15691483|         549| France|Female| 25|     5|      0.0|              2|          0|            0|       190857.79|    0|\n",
            "|   15600882|         635|  Spain|Female| 35|     7|      0.0|              2|          1|            1|        65951.65|    0|\n",
            "|   15643966|         616|Germany|  Male| 45|     3|143129.41|              2|          0|            1|        64327.26|    0|\n",
            "|   15737452|         653|Germany|  Male| 58|     1|132602.88|              1|          1|            0|         5097.67|    1|\n",
            "|   15788218|         549|  Spain|Female| 24|     9|      0.0|              2|          1|            1|        14406.41|    0|\n",
            "|   15661507|         587|  Spain|  Male| 45|     6|      0.0|              1|          0|            0|       158684.81|    0|\n",
            "|   15568982|         726| France|Female| 24|     6|      0.0|              2|          1|            1|        54724.03|    0|\n",
            "+-----------+------------+-------+------+---+------+---------+---------------+-----------+-------------+----------------+-----+\n",
            "only showing top 20 rows\n",
            "\n"
          ]
        }
      ]
    },
    {
      "cell_type": "markdown",
      "metadata": {
        "id": "rame89mFYb4F"
      },
      "source": [
        "### **Wczytanie** **bibliotek**"
      ]
    },
    {
      "cell_type": "code",
      "execution_count": 11,
      "metadata": {
        "id": "7kN7Hk3cYYNK"
      },
      "outputs": [],
      "source": [
        "import io\n",
        "import pandas as pd\n",
        "import seaborn as sns\n",
        "import matplotlib.pyplot as plt\n",
        "from pyspark.sql.functions import count, when, col\n",
        "from pyspark.ml.stat import Correlation\n",
        "from pyspark.sql import functions as F\n",
        "from pyspark.ml.feature import StringIndexer, OneHotEncoder, VectorAssembler, StandardScaler\n",
        "from pyspark.ml.classification import LogisticRegression\n",
        "from pyspark.ml import Pipeline\n",
        "from pyspark.ml.evaluation import BinaryClassificationEvaluator\n",
        "from pyspark.ml.feature import OneHotEncoder\n",
        "from pyspark.ml.evaluation import MulticlassClassificationEvaluator\n",
        "from pyspark.mllib.evaluation import MulticlassMetrics\n",
        "from pyspark.ml.classification import DecisionTreeClassifier\n",
        "from pyspark.ml.tuning import ParamGridBuilder, CrossValidator\n"
      ]
    },
    {
      "cell_type": "markdown",
      "metadata": {
        "id": "-gnXTI6StFaJ"
      },
      "source": [
        "# **Analiza eksploracyjna**\n",
        "\n",
        "\n"
      ]
    },
    {
      "cell_type": "markdown",
      "metadata": {
        "id": "pYunxBFkZ_Rm"
      },
      "source": [
        "### **Wyświetlenie informacje o danych**"
      ]
    },
    {
      "cell_type": "code",
      "execution_count": 12,
      "metadata": {
        "id": "g8rXc1bfkyqN",
        "colab": {
          "base_uri": "https://localhost:8080/"
        },
        "outputId": "ede483c1-dbb5-4439-96ba-844cb322ef78"
      },
      "outputs": [
        {
          "output_type": "stream",
          "name": "stdout",
          "text": [
            "root\n",
            " |-- customer_id: integer (nullable = true)\n",
            " |-- credit_score: integer (nullable = true)\n",
            " |-- country: string (nullable = true)\n",
            " |-- gender: string (nullable = true)\n",
            " |-- age: integer (nullable = true)\n",
            " |-- tenure: integer (nullable = true)\n",
            " |-- balance: double (nullable = true)\n",
            " |-- products_number: integer (nullable = true)\n",
            " |-- credit_card: integer (nullable = true)\n",
            " |-- active_member: integer (nullable = true)\n",
            " |-- estimated_salary: double (nullable = true)\n",
            " |-- churn: integer (nullable = true)\n",
            "\n"
          ]
        }
      ],
      "source": [
        "df_spark.printSchema()"
      ]
    },
    {
      "cell_type": "markdown",
      "metadata": {
        "id": "U8-CWIF5aj9Z"
      },
      "source": [
        "### **Statystyki opisowe dla kolumn numerycznych**"
      ]
    },
    {
      "cell_type": "code",
      "execution_count": 13,
      "metadata": {
        "id": "cy_LNBgPlbyM",
        "colab": {
          "base_uri": "https://localhost:8080/"
        },
        "outputId": "e6774fca-be81-456a-e631-760282489163"
      },
      "outputs": [
        {
          "output_type": "stream",
          "name": "stdout",
          "text": [
            "+-------+-----------------+------------------+------------------+-----------------+------------------+-----------------+\n",
            "|summary|     credit_score|               age|            tenure|          balance|   products_number| estimated_salary|\n",
            "+-------+-----------------+------------------+------------------+-----------------+------------------+-----------------+\n",
            "|  count|            10000|             10000|             10000|            10000|             10000|            10000|\n",
            "|   mean|         650.5288|           38.9218|            5.0128|76485.88928799961|            1.5302|100090.2398809998|\n",
            "| stddev|96.65329873613035|10.487806451704587|2.8921743770496837|62397.40520238599|0.5816543579989917|57510.49281769821|\n",
            "|    min|              350|                18|                 0|              0.0|                 1|            11.58|\n",
            "|    max|              850|                92|                10|        250898.09|                 4|        199992.48|\n",
            "+-------+-----------------+------------------+------------------+-----------------+------------------+-----------------+\n",
            "\n"
          ]
        }
      ],
      "source": [
        "numeric_columns = ['credit_score', 'age', 'tenure', 'balance', 'products_number', 'estimated_salary']\n",
        "df_numeric = df_spark.select(numeric_columns)\n",
        "\n",
        "df_numeric.describe().show()"
      ]
    },
    {
      "cell_type": "markdown",
      "metadata": {
        "id": "76IxN1pGapiP"
      },
      "source": [
        "### **Unikalne wartości w kolumnie 'country' oraz 'gender'**"
      ]
    },
    {
      "cell_type": "code",
      "execution_count": 14,
      "metadata": {
        "id": "cSpDigMhlt8M",
        "colab": {
          "base_uri": "https://localhost:8080/"
        },
        "outputId": "b4ab2413-aa0e-4520-9ee8-19fbe9da6f4c"
      },
      "outputs": [
        {
          "output_type": "stream",
          "name": "stdout",
          "text": [
            "Unique countries: ['Germany', 'France', 'Spain']\n",
            "Unique genders: ['Female', 'Male']\n",
            "+-------+-----+\n",
            "|country|count|\n",
            "+-------+-----+\n",
            "|Germany| 2509|\n",
            "| France| 5014|\n",
            "|  Spain| 2477|\n",
            "+-------+-----+\n",
            "\n",
            "+------+-----+\n",
            "|gender|count|\n",
            "+------+-----+\n",
            "|Female| 4543|\n",
            "|  Male| 5457|\n",
            "+------+-----+\n",
            "\n"
          ]
        }
      ],
      "source": [
        "unique_countries = df_spark.select('country').distinct().collect()\n",
        "print(\"Unique countries:\", [row['country'] for row in unique_countries])\n",
        "\n",
        "unique_genders = df_spark.select('gender').distinct().collect()\n",
        "print(\"Unique genders:\", [row['gender'] for row in unique_genders])\n",
        "\n",
        "# Ilość wystąpień każdej wartości w kolumnie 'country'\n",
        "df_spark.groupBy('country').count().show()\n",
        "\n",
        "# Ilość wystąpień każdej wartości w kolumnie 'gender'\n",
        "df_spark.groupBy('gender').count().show()\n"
      ]
    },
    {
      "cell_type": "markdown",
      "metadata": {
        "id": "-cl0Fi5LbZDs"
      },
      "source": [
        "### **Sprawdzenie brakujących danych**"
      ]
    },
    {
      "cell_type": "code",
      "execution_count": 15,
      "metadata": {
        "id": "cO4wpo7il7c2",
        "colab": {
          "base_uri": "https://localhost:8080/"
        },
        "outputId": "36ac8244-a0ef-41f9-840a-1f907114d706"
      },
      "outputs": [
        {
          "output_type": "stream",
          "name": "stdout",
          "text": [
            "+-----------+------------+-------+------+---+------+-------+---------------+-----------+-------------+----------------+-----+\n",
            "|customer_id|credit_score|country|gender|age|tenure|balance|products_number|credit_card|active_member|estimated_salary|churn|\n",
            "+-----------+------------+-------+------+---+------+-------+---------------+-----------+-------------+----------------+-----+\n",
            "|          0|           0|      0|     0|  0|     0|      0|              0|          0|            0|               0|    0|\n",
            "+-----------+------------+-------+------+---+------+-------+---------------+-----------+-------------+----------------+-----+\n",
            "\n"
          ]
        }
      ],
      "source": [
        "df_spark.select([count(when(col(c).isNull(), c)).alias(c) for c in df_spark.columns]).show()"
      ]
    },
    {
      "cell_type": "markdown",
      "metadata": {
        "id": "-Hual4Mwbeu_"
      },
      "source": [
        "### **Usunięcie kolumny 'customer_id'**"
      ]
    },
    {
      "cell_type": "code",
      "execution_count": 16,
      "metadata": {
        "id": "55Zdr5VOmC5Z"
      },
      "outputs": [],
      "source": [
        "df_spark = df_spark.drop(\"customer_id\")"
      ]
    },
    {
      "cell_type": "markdown",
      "metadata": {
        "id": "zW5Vy5OCbuvV"
      },
      "source": [
        "### **Analiza rozkładów zmiennych numerycznych**\n",
        "\n",
        "---\n",
        "\n"
      ]
    },
    {
      "cell_type": "code",
      "execution_count": 17,
      "metadata": {
        "id": "QM1zkAOkmREf",
        "colab": {
          "base_uri": "https://localhost:8080/",
          "height": 853
        },
        "outputId": "e4a34b35-7c78-4508-ea97-5d53c13e01b6"
      },
      "outputs": [
        {
          "output_type": "display_data",
          "data": {
            "text/plain": [
              "<Figure size 1200x1000 with 6 Axes>"
            ],
            "image/png": "[encoded data removed]"
          },
          "metadata": {}
        }
      ],
      "source": [
        "df_pd_numeric = df_spark.select(numeric_columns).toPandas()\n",
        "df_pd_numeric.hist(figsize=(12, 10), bins=20)\n",
        "plt.show()\n"
      ]
    },
    {
      "cell_type": "markdown",
      "metadata": {
        "id": "-BWSZAxQb2O4"
      },
      "source": [
        "### **Ilość wystąpień każdej wartości w kolumnie 'country'**"
      ]
    },
    {
      "cell_type": "code",
      "execution_count": 18,
      "metadata": {
        "id": "SIei7oanngSW",
        "colab": {
          "base_uri": "https://localhost:8080/",
          "height": 595
        },
        "outputId": "4ad594e5-1659-41df-f3a5-a7c75ec28004"
      },
      "outputs": [
        {
          "output_type": "stream",
          "name": "stderr",
          "text": [
            "<ipython-input-18-f0475db25bce>:3: FutureWarning: \n",
            "\n",
            "Passing `palette` without assigning `hue` is deprecated and will be removed in v0.14.0. Assign the `x` variable to `hue` and set `legend=False` for the same effect.\n",
            "\n",
            "  sns.barplot(x='country', y='count', data=country_counts, palette='pastel')\n"
          ]
        },
        {
          "output_type": "display_data",
          "data": {
            "text/plain": [
              "<Figure size 900x500 with 1 Axes>"
            ],
            "image/png": "[encoded data removed]"
          },
          "metadata": {}
        }
      ],
      "source": [
        "country_counts = df_spark.groupBy('country').count().toPandas()\n",
        "plt.figure(figsize=(9, 5))\n",
        "sns.barplot(x='country', y='count', data=country_counts, palette='pastel')\n",
        "plt.title('Liczba Wystąpień dla Każdego Kraju')\n",
        "plt.xlabel('Kraj')\n",
        "plt.ylabel('Ilość')\n",
        "plt.show()\n"
      ]
    },
    {
      "cell_type": "markdown",
      "metadata": {
        "id": "OfX-syPao2kK"
      },
      "source": [
        "Najwięcej klientów pochodzi z Francji, co stanowi najliczniejszy segment w danych. Niemcy zajmują drugie miejsce, a Hiszpania jest najmniej reprezentowana wśród trzech krajów."
      ]
    },
    {
      "cell_type": "markdown",
      "metadata": {
        "id": "NOI_U7Z4b6yj"
      },
      "source": [
        "### **Ilość wystąpień dla każdej wartości w kolumnie 'gender'**"
      ]
    },
    {
      "cell_type": "code",
      "execution_count": 19,
      "metadata": {
        "id": "WxR-B1vxpPWn",
        "colab": {
          "base_uri": "https://localhost:8080/",
          "height": 518
        },
        "outputId": "1076d991-025d-4872-b8d5-733b2dbc4d45"
      },
      "outputs": [
        {
          "output_type": "stream",
          "name": "stderr",
          "text": [
            "<ipython-input-19-71a86f8dced1>:4: FutureWarning: \n",
            "\n",
            "Passing `palette` without assigning `hue` is deprecated and will be removed in v0.14.0. Assign the `x` variable to `hue` and set `legend=False` for the same effect.\n",
            "\n",
            "  sns.barplot(x='gender', y='count', data=gender_counts, palette='pastel')\n"
          ]
        },
        {
          "output_type": "display_data",
          "data": {
            "text/plain": [
              "<Figure size 700x400 with 1 Axes>"
            ],
            "image/png": "[encoded data removed]"
          },
          "metadata": {}
        }
      ],
      "source": [
        "gender_counts = df_spark.groupBy('gender').count().toPandas()\n",
        "\n",
        "plt.figure(figsize=(7, 4))\n",
        "sns.barplot(x='gender', y='count', data=gender_counts, palette='pastel')\n",
        "plt.title('Liczba Wystąpień dla Każdej Płci')\n",
        "plt.xlabel('Płeć')\n",
        "plt.ylabel('Ilość')\n",
        "plt.show()\n"
      ]
    },
    {
      "cell_type": "markdown",
      "metadata": {
        "id": "1utJCV9IpyIV"
      },
      "source": [
        "Analiza ilości wystąpień dla płci w ramach zbioru danych klientów banku ukazuje, że mężczyźni stanowią większą grupę, reprezentującą 5457 klientów, podczas gdy kobiety, z liczbą 4543, są nieco mniej liczne."
      ]
    },
    {
      "cell_type": "markdown",
      "metadata": {
        "id": "v5sT64uKdDOw"
      },
      "source": [
        "### **Macierz korelacji między zmiennymi numerycznymi**"
      ]
    },
    {
      "cell_type": "code",
      "execution_count": 20,
      "metadata": {
        "id": "Ghz1A_gRq8xU",
        "colab": {
          "base_uri": "https://localhost:8080/",
          "height": 806
        },
        "outputId": "d9f66bb3-0ad6-41c6-c263-9d7895283587"
      },
      "outputs": [
        {
          "output_type": "display_data",
          "data": {
            "text/plain": [
              "<Figure size 1000x800 with 2 Axes>"
            ],
            "image/png": "[encoded data removed]"
          },
          "metadata": {}
        }
      ],
      "source": [
        "df_spark_numeric = df_spark.select(numeric_columns)\n",
        "\n",
        "vector_assembler = VectorAssembler(inputCols=numeric_columns, outputCol='features')\n",
        "df_spark_features = vector_assembler.transform(df_spark_numeric)\n",
        "\n",
        "corr_matrix_spark = Correlation.corr(df_spark_features, 'features').collect()[0][0]\n",
        "\n",
        "# Konwersja macierzy korelacji do Pandas DataFrame\n",
        "corr_matrix_pd = pd.DataFrame(corr_matrix_spark.toArray(), columns=numeric_columns, index=numeric_columns)\n",
        "\n",
        "# Wizualizacja macierzy korelacji\n",
        "plt.figure(figsize=(10, 8))\n",
        "sns.heatmap(corr_matrix_pd, annot=True, fmt=\".2f\", cmap='coolwarm', cbar=True)\n",
        "plt.title('Macierz korelacji między zmiennymi numerycznymi')\n",
        "plt.show()\n"
      ]
    },
    {
      "cell_type": "markdown",
      "metadata": {
        "id": "_QfOurA_rwbA"
      },
      "source": [
        "Heatmapa macierzy korelacji dla zmiennych numerycznych ukazuje, że występuje umiarkowana ujemna korelacja między liczbą produktów a saldem na koncie (około -0.3), co sugeruje, że wzrost liczby produktów może być powiązany z umiarkowanym spadkiem salda, natomiast pozostałe korelacje są niskie."
      ]
    },
    {
      "cell_type": "markdown",
      "metadata": {
        "id": "jCmhs_K9drsH"
      },
      "source": [
        "### **Procentowy udział kolumny 'Churn'**"
      ]
    },
    {
      "cell_type": "code",
      "execution_count": 21,
      "metadata": {
        "id": "YaJtL9LYsFzZ",
        "colab": {
          "base_uri": "https://localhost:8080/",
          "height": 444
        },
        "outputId": "d69e7cd8-282c-489a-d9a7-a1a31352536e"
      },
      "outputs": [
        {
          "output_type": "display_data",
          "data": {
            "text/plain": [
              "<Figure size 500x500 with 1 Axes>"
            ],
            "image/png": "[encoded data removed]"
          },
          "metadata": {}
        }
      ],
      "source": [
        "churn_counts = df_spark.groupBy('churn').count().toPandas()\n",
        "labels = ['Zostało', 'Odeszło']\n",
        "sizes = churn_counts['count']\n",
        "colors = sns.color_palette('pastel')[0:2]  # Paleta pastelowa\n",
        "\n",
        "plt.figure(figsize=(5, 5))\n",
        "plt.pie(sizes, labels=labels, autopct='%1.1f%%', colors=colors, startangle=90)\n",
        "plt.title('Procentowy udział Churnu')\n",
        "plt.show()\n"
      ]
    },
    {
      "cell_type": "markdown",
      "metadata": {
        "id": "YqYPvxNJs2Fu"
      },
      "source": [
        "Na przedstawionym wykresie kołowym można zauważyć, że:\n",
        "\n",
        "79.6% klientów pozostało (nie opuściło banku),\n",
        "20.4% klientów odeszło (opuściło bank).\n",
        "\n",
        "Ta informacja może wskazywać na stosunkowo stabilną sytuację wśród klientów, gdzie większość z nich nadal korzysta z usług banku."
      ]
    },
    {
      "cell_type": "markdown",
      "metadata": {
        "id": "4Z2L_aaKeDod"
      },
      "source": [
        "### **Tworzenie wykresu dla wieku w zależności od Churnu**"
      ]
    },
    {
      "cell_type": "code",
      "execution_count": 22,
      "metadata": {
        "id": "xjsBXeSZtIBv",
        "colab": {
          "base_uri": "https://localhost:8080/",
          "height": 671
        },
        "outputId": "02ba52e8-e114-4939-ffae-2472862416e1"
      },
      "outputs": [
        {
          "output_type": "stream",
          "name": "stderr",
          "text": [
            "<ipython-input-22-3ad95ffa06ef>:2: FutureWarning: \n",
            "\n",
            "Passing `palette` without assigning `hue` is deprecated and will be removed in v0.14.0. Assign the `x` variable to `hue` and set `legend=False` for the same effect.\n",
            "\n",
            "  sns.boxplot(x='churn', y='age', data=df_spark.toPandas(), palette='pastel')\n"
          ]
        },
        {
          "output_type": "display_data",
          "data": {
            "text/plain": [
              "<Figure size 1000x600 with 1 Axes>"
            ],
            "image/png": "[encoded data removed]"
          },
          "metadata": {}
        }
      ],
      "source": [
        "plt.figure(figsize=(10, 6))\n",
        "sns.boxplot(x='churn', y='age', data=df_spark.toPandas(), palette='pastel')\n",
        "plt.title('Rozkład wieku w zależności od Churnu')\n",
        "plt.xlabel('Churn')\n",
        "plt.ylabel('Wiek')\n",
        "plt.show()\n"
      ]
    },
    {
      "cell_type": "markdown",
      "metadata": {
        "id": "ILdsbgj3eThZ"
      },
      "source": [
        "### **Identyfikacja wartości odstających**"
      ]
    },
    {
      "cell_type": "code",
      "execution_count": 23,
      "metadata": {
        "id": "J6hp3D4Vw93M",
        "colab": {
          "base_uri": "https://localhost:8080/"
        },
        "outputId": "324b589a-c80b-45cf-fddf-db072d1f553c"
      },
      "outputs": [
        {
          "output_type": "stream",
          "name": "stdout",
          "text": [
            "Liczba wartości odstających w grupie 0: 486\n",
            "Liczba wartości odstających w grupie 1: 13\n"
          ]
        }
      ],
      "source": [
        "def find_outliers(df, churn_value):\n",
        "    # Obliczenie granic wąsów dla danej grupy\n",
        "    group_stats = df.filter(df['churn'] == churn_value).selectExpr('percentile(age, array(0.25, 0.75)) as quartiles').collect()[0]\n",
        "    Q1, Q3 = group_stats['quartiles'][0], group_stats['quartiles'][1]\n",
        "    IQR = Q3 - Q1\n",
        "    lower_fence = Q1 - 1.5 * IQR\n",
        "    upper_fence = Q3 + 1.5 * IQR\n",
        "\n",
        "    # Filtrowanie danych i identyfikacja wartości odstających\n",
        "    outliers = df.filter((df['churn'] == churn_value) & ((df['age'] < lower_fence) | (df['age'] > upper_fence)))\n",
        "\n",
        "    # Wyświetlenie liczby wartości odstających\n",
        "    num_outliers = outliers.count()\n",
        "    print(f\"Liczba wartości odstających w grupie {churn_value}: {num_outliers}\")\n",
        "\n",
        "# Identyfikacja wartości odstających dla grupy '0'\n",
        "find_outliers(df_spark, 0)\n",
        "\n",
        "# Identyfikacja wartości odstających dla grupy '1'\n",
        "find_outliers(df_spark, 1)\n"
      ]
    },
    {
      "cell_type": "markdown",
      "metadata": {
        "id": "A83ayCsv0fb7"
      },
      "source": [
        "Grupa '0' (Churn = 0):\n",
        "Mediana wieku wynosi 36 lat, co oznacza, że połowa klientów w tej grupie ma mniej niż 36 lat.Dolna granica wąsów (lower fence) wynosi 18 lat, co oznacza brak wartości odstających poniżej tej granicy. Jednakże, górna granica wąsów (upper fence) wynosi 56 lat, co oznacza, że istnieje duża liczba wartości odstających powyżej tej granicy, aż do maksymalnej wartości 92 lat.\n",
        "\n",
        "Grupa '1' (Churn = 1):\n",
        "Mediana wynosi 45 lata, co oznacza, że połowa klientów, którzy odeszli, miała mniej niż 45 lata.\n",
        "Górna granica wąsów (upper fence) wynosi 70 lat, a maksymalny wiek to 84 lata. Istnieje niewielka liczba wartości odstających powyżej tej granicy.Istnieją wartości poniżej dolnej granicy wąsów, w tym kilka wartości 18 lat, które są uznawane za wartości odstające."
      ]
    },
    {
      "cell_type": "markdown",
      "metadata": {
        "id": "Kd8BCG9Ket6d"
      },
      "source": [
        "## **Indeksowanie kolumn kategorialnych oraz kodowanie One-Hot**"
      ]
    },
    {
      "cell_type": "code",
      "execution_count": 24,
      "metadata": {
        "id": "l05KtxiCGbRh"
      },
      "outputs": [],
      "source": [
        "indexer_country = StringIndexer(inputCol=\"country\", outputCol=\"country_index\")\n",
        "indexer_gender = StringIndexer(inputCol=\"gender\", outputCol=\"gender_index\")\n",
        "\n",
        "df_spark = indexer_country.fit(df_spark).transform(df_spark)\n",
        "df_spark = indexer_gender.fit(df_spark).transform(df_spark)\n",
        "\n",
        "# Kodowanie One-Hot\n",
        "encoder_country = OneHotEncoder(inputCols=[\"country_index\"], outputCols=[\"country_vec\"])\n",
        "encoder_gender = OneHotEncoder(inputCols=[\"gender_index\"], outputCols=[\"gender_vec\"])\n",
        "\n",
        "df_spark = encoder_country.fit(df_spark).transform(df_spark)\n",
        "df_spark = encoder_gender.fit(df_spark).transform(df_spark)\n",
        "\n"
      ]
    },
    {
      "cell_type": "code",
      "execution_count": 25,
      "metadata": {
        "id": "ZiH9uWn_G4ev",
        "colab": {
          "base_uri": "https://localhost:8080/"
        },
        "outputId": "53fb85ad-1cc2-4889-acc0-92f6af7bafc3"
      },
      "outputs": [
        {
          "output_type": "stream",
          "name": "stdout",
          "text": [
            "+------------+-------+------+---+------+---------+---------------+-----------+-------------+----------------+-----+-------------+------------+-------------+-------------+\n",
            "|credit_score|country|gender|age|tenure|  balance|products_number|credit_card|active_member|estimated_salary|churn|country_index|gender_index|  country_vec|   gender_vec|\n",
            "+------------+-------+------+---+------+---------+---------------+-----------+-------------+----------------+-----+-------------+------------+-------------+-------------+\n",
            "|         619| France|Female| 42|     2|      0.0|              1|          1|            1|       101348.88|    1|          0.0|         1.0|(2,[0],[1.0])|    (1,[],[])|\n",
            "|         608|  Spain|Female| 41|     1| 83807.86|              1|          0|            1|       112542.58|    0|          2.0|         1.0|    (2,[],[])|    (1,[],[])|\n",
            "|         502| France|Female| 42|     8| 159660.8|              3|          1|            0|       113931.57|    1|          0.0|         1.0|(2,[0],[1.0])|    (1,[],[])|\n",
            "|         699| France|Female| 39|     1|      0.0|              2|          0|            0|        93826.63|    0|          0.0|         1.0|(2,[0],[1.0])|    (1,[],[])|\n",
            "|         850|  Spain|Female| 43|     2|125510.82|              1|          1|            1|         79084.1|    0|          2.0|         1.0|    (2,[],[])|    (1,[],[])|\n",
            "|         645|  Spain|  Male| 44|     8|113755.78|              2|          1|            0|       149756.71|    1|          2.0|         0.0|    (2,[],[])|(1,[0],[1.0])|\n",
            "|         822| France|  Male| 50|     7|      0.0|              2|          1|            1|         10062.8|    0|          0.0|         0.0|(2,[0],[1.0])|(1,[0],[1.0])|\n",
            "|         376|Germany|Female| 29|     4|115046.74|              4|          1|            0|       119346.88|    1|          1.0|         1.0|(2,[1],[1.0])|    (1,[],[])|\n",
            "|         501| France|  Male| 44|     4|142051.07|              2|          0|            1|         74940.5|    0|          0.0|         0.0|(2,[0],[1.0])|(1,[0],[1.0])|\n",
            "|         684| France|  Male| 27|     2|134603.88|              1|          1|            1|        71725.73|    0|          0.0|         0.0|(2,[0],[1.0])|(1,[0],[1.0])|\n",
            "|         528| France|  Male| 31|     6|102016.72|              2|          0|            0|        80181.12|    0|          0.0|         0.0|(2,[0],[1.0])|(1,[0],[1.0])|\n",
            "|         497|  Spain|  Male| 24|     3|      0.0|              2|          1|            0|        76390.01|    0|          2.0|         0.0|    (2,[],[])|(1,[0],[1.0])|\n",
            "|         476| France|Female| 34|    10|      0.0|              2|          1|            0|        26260.98|    0|          0.0|         1.0|(2,[0],[1.0])|    (1,[],[])|\n",
            "|         549| France|Female| 25|     5|      0.0|              2|          0|            0|       190857.79|    0|          0.0|         1.0|(2,[0],[1.0])|    (1,[],[])|\n",
            "|         635|  Spain|Female| 35|     7|      0.0|              2|          1|            1|        65951.65|    0|          2.0|         1.0|    (2,[],[])|    (1,[],[])|\n",
            "|         616|Germany|  Male| 45|     3|143129.41|              2|          0|            1|        64327.26|    0|          1.0|         0.0|(2,[1],[1.0])|(1,[0],[1.0])|\n",
            "|         653|Germany|  Male| 58|     1|132602.88|              1|          1|            0|         5097.67|    1|          1.0|         0.0|(2,[1],[1.0])|(1,[0],[1.0])|\n",
            "|         549|  Spain|Female| 24|     9|      0.0|              2|          1|            1|        14406.41|    0|          2.0|         1.0|    (2,[],[])|    (1,[],[])|\n",
            "|         587|  Spain|  Male| 45|     6|      0.0|              1|          0|            0|       158684.81|    0|          2.0|         0.0|    (2,[],[])|(1,[0],[1.0])|\n",
            "|         726| France|Female| 24|     6|      0.0|              2|          1|            1|        54724.03|    0|          0.0|         1.0|(2,[0],[1.0])|    (1,[],[])|\n",
            "+------------+-------+------+---+------+---------+---------------+-----------+-------------+----------------+-----+-------------+------------+-------------+-------------+\n",
            "only showing top 20 rows\n",
            "\n"
          ]
        }
      ],
      "source": [
        "df_spark.show()"
      ]
    },
    {
      "cell_type": "markdown",
      "metadata": {
        "id": "4wU2jPHTQeT0"
      },
      "source": [
        "# **Regresja logistyczna**"
      ]
    },
    {
      "cell_type": "code",
      "execution_count": 26,
      "metadata": {
        "id": "fz5k2gHmRM8e"
      },
      "outputs": [],
      "source": [
        "selected_cols = [\"credit_score\", \"age\", \"tenure\", \"balance\", \"products_number\", \"estimated_salary\", \"credit_card\", \"active_member\", \"country_vec\", \"gender_vec\", \"churn\"]\n",
        "\n",
        "assembler = VectorAssembler(inputCols=selected_cols[:-5], outputCol=\"selected_features\")\n",
        "df_transformed = assembler.transform(df_spark)\n"
      ]
    },
    {
      "cell_type": "markdown",
      "metadata": {
        "id": "CFP3-NrumxvS"
      },
      "source": [
        "### **Skalowanie danych**\n",
        "\n",
        "---\n",
        "\n"
      ]
    },
    {
      "cell_type": "code",
      "execution_count": 27,
      "metadata": {
        "id": "EOmCOzmumxRR"
      },
      "outputs": [],
      "source": [
        "scaler = StandardScaler(inputCol=\"selected_features\", outputCol=\"scaled_features\", withMean=True, withStd=True)\n",
        "scaler_model = scaler.fit(df_transformed)\n",
        "df_scaled = scaler_model.transform(df_transformed)\n",
        "\n",
        "# Oznaczenie kolumny churn jako target\n",
        "df_target = df_scaled.withColumn(\"target\", col(\"churn\"))\n",
        "\n",
        "df_selected = df_target.select(\"scaled_features\", \"credit_card\", \"active_member\", \"country_vec\", \"gender_vec\", \"target\")\n",
        "\n",
        "assembler = VectorAssembler(inputCols=[\"scaled_features\", \"credit_card\", \"active_member\", \"country_vec\", \"gender_vec\"], outputCol=\"features\")\n",
        "df_features = assembler.transform(df_selected)"
      ]
    },
    {
      "cell_type": "markdown",
      "metadata": {
        "id": "FNf5m12Lhzhm"
      },
      "source": [
        "### **Podzielenie danych na zbiór treningowy i testowy**"
      ]
    },
    {
      "cell_type": "code",
      "execution_count": 28,
      "metadata": {
        "id": "OIMdPBfcKoPN",
        "colab": {
          "base_uri": "https://localhost:8080/"
        },
        "outputId": "a03d951c-0edc-4125-f147-80d279ef78a7"
      },
      "outputs": [
        {
          "output_type": "stream",
          "name": "stdout",
          "text": [
            "Liczba wierszy w zbiorze treningowym: 8079\n",
            "Liczba wierszy w zbiorze testowym: 1921\n"
          ]
        }
      ],
      "source": [
        "scaled_train_data, scaled_test_data = df_features.randomSplit([0.8, 0.2], seed=42)\n",
        "\n",
        "print(\"Liczba wierszy w zbiorze treningowym:\", scaled_train_data.count())\n",
        "print(\"Liczba wierszy w zbiorze testowym:\", scaled_test_data.count())\n"
      ]
    },
    {
      "cell_type": "markdown",
      "metadata": {
        "id": "JdnWt0eOiW5w"
      },
      "source": [
        "### **Inicjalizacja modelu regresji logistycznej**"
      ]
    },
    {
      "cell_type": "code",
      "execution_count": 29,
      "metadata": {
        "id": "p3SigNunMOvY"
      },
      "outputs": [],
      "source": [
        "logistic_regression = LogisticRegression(featuresCol=\"scaled_features\", labelCol=\"target\")"
      ]
    },
    {
      "cell_type": "markdown",
      "metadata": {
        "id": "DdAjSlSria5f"
      },
      "source": [
        "### **Dopasowanie modelu do danych treningowych**"
      ]
    },
    {
      "cell_type": "code",
      "execution_count": 30,
      "metadata": {
        "id": "ioiwPKL8iYup"
      },
      "outputs": [],
      "source": [
        "logistic_regression_model = logistic_regression.fit(scaled_train_data)"
      ]
    },
    {
      "cell_type": "markdown",
      "metadata": {
        "id": "0lJtXfHdieeF"
      },
      "source": [
        "### **Prognozowanie na danych testowych**"
      ]
    },
    {
      "cell_type": "code",
      "execution_count": 31,
      "metadata": {
        "id": "PYF2ysdyid1Z"
      },
      "outputs": [],
      "source": [
        "logistic_regression_predictions = logistic_regression_model.transform(scaled_test_data)"
      ]
    },
    {
      "cell_type": "markdown",
      "metadata": {
        "id": "YmHtrNzQiuaI"
      },
      "source": [
        "### **Ocena modelu**"
      ]
    },
    {
      "cell_type": "code",
      "execution_count": 32,
      "metadata": {
        "id": "nU_o-b0uPECa",
        "colab": {
          "base_uri": "https://localhost:8080/"
        },
        "outputId": "b13f3093-3292-4e76-c1df-95b2babc4062"
      },
      "outputs": [
        {
          "output_type": "stream",
          "name": "stdout",
          "text": [
            "Accuracy: 0.7912545549193128\n"
          ]
        }
      ],
      "source": [
        "evaluator_accuracy_l = MulticlassClassificationEvaluator(labelCol=\"target\", metricName=\"accuracy\")\n",
        "accuracy = evaluator_accuracy_l.evaluate(logistic_regression_predictions)\n",
        "print(f\"Accuracy: {accuracy}\")"
      ]
    },
    {
      "cell_type": "markdown",
      "metadata": {
        "id": "BnOdxrv8P0ww"
      },
      "source": [
        "Model osiągnął dokładność na poziomie 79,12%, co oznacza, że poprawnie sklasyfikował 79,12% wszystkich przypadków.\n",
        "\n"
      ]
    },
    {
      "cell_type": "code",
      "execution_count": 33,
      "metadata": {
        "id": "yi5q100_PIKn",
        "colab": {
          "base_uri": "https://localhost:8080/"
        },
        "outputId": "e4984b15-384f-4093-da70-649beba037a8"
      },
      "outputs": [
        {
          "output_type": "stream",
          "name": "stdout",
          "text": [
            "Precision: 0.7113346482642318\n"
          ]
        }
      ],
      "source": [
        "evaluator_precision_l = MulticlassClassificationEvaluator(labelCol=\"target\", metricName=\"weightedPrecision\")\n",
        "precision = evaluator_precision_l.evaluate(logistic_regression_predictions)\n",
        "print(f\"Precision: {precision}\")\n"
      ]
    },
    {
      "cell_type": "markdown",
      "metadata": {
        "id": "oQtGR3b6P2Vj"
      },
      "source": [
        "Precyzja wynosi 71,1%, co oznacza, że 71,1% przypadków sklasyfikowanych jako \"churn\" (odejście klienta) było poprawnych. Wartość ta jest istotna, gdy zależy nam na minimalizacji błędów w identyfikacji odchodzących klientów."
      ]
    },
    {
      "cell_type": "code",
      "execution_count": 34,
      "metadata": {
        "id": "ddFXpgE_PKHE",
        "colab": {
          "base_uri": "https://localhost:8080/"
        },
        "outputId": "d64af26f-22f8-41db-acb4-8bfe1eb21439"
      },
      "outputs": [
        {
          "output_type": "stream",
          "name": "stdout",
          "text": [
            "Confusion Matrix:\n",
            "[[1498.   58.]\n",
            " [ 343.   22.]]\n"
          ]
        }
      ],
      "source": [
        "prediction_and_label_l = logistic_regression_predictions.select(\"prediction\", \"target\").rdd.map(lambda x: (float(x[\"prediction\"]), float(x[\"target\"])))\n",
        "metrics = MulticlassMetrics(prediction_and_label_l)\n",
        "confusion_matrix = metrics.confusionMatrix().toArray()\n",
        "print(f\"Confusion Matrix:\\n{confusion_matrix}\")"
      ]
    },
    {
      "cell_type": "markdown",
      "metadata": {
        "id": "zvHM5WzYQH7w"
      },
      "source": [
        "Model jest skuteczny w identyfikowaniu klientów, którzy nie odejdą (TN: 1498), co jest pozytywnym wynikiem.\n",
        "Istnieje jednak ryzyko, że model przewidzi odejście klienta, gdy tak naprawdę nie odejdzie (FP:58 ).\n",
        "Dodatkowo, model ma trudności w identyfikacji klientów, którzy faktycznie odejdą (TP: 22), co jest widoczne w wyższej liczbie False Negative (FN: 343).\n"
      ]
    },
    {
      "cell_type": "markdown",
      "metadata": {
        "id": "_rYm_nDJQXdN"
      },
      "source": [
        "# **Drzewo decyzyjne**"
      ]
    },
    {
      "cell_type": "code",
      "execution_count": 35,
      "metadata": {
        "id": "aljG8kftlATf",
        "colab": {
          "base_uri": "https://localhost:8080/"
        },
        "outputId": "3f66411e-8e11-4f4b-8021-ae2351516b4f"
      },
      "outputs": [
        {
          "output_type": "stream",
          "name": "stdout",
          "text": [
            "+--------------------+------+\n",
            "|            features|target|\n",
            "+--------------------+------+\n",
            "|[619.0,42.0,2.0,0...|     1|\n",
            "|[608.0,41.0,1.0,8...|     0|\n",
            "|[502.0,42.0,8.0,1...|     1|\n",
            "|(11,[0,1,2,4,7,8]...|     0|\n",
            "|[850.0,43.0,2.0,1...|     0|\n",
            "|[645.0,44.0,8.0,1...|     1|\n",
            "|[822.0,50.0,7.0,0...|     0|\n",
            "|[376.0,29.0,4.0,1...|     1|\n",
            "|[501.0,44.0,4.0,1...|     0|\n",
            "|[684.0,27.0,2.0,1...|     0|\n",
            "|[528.0,31.0,6.0,1...|     0|\n",
            "|[497.0,24.0,3.0,0...|     0|\n",
            "|[476.0,34.0,10.0,...|     0|\n",
            "|(11,[0,1,2,4,7,8]...|     0|\n",
            "|[635.0,35.0,7.0,0...|     0|\n",
            "|[616.0,45.0,3.0,1...|     0|\n",
            "|[653.0,58.0,1.0,1...|     1|\n",
            "|[549.0,24.0,9.0,0...|     0|\n",
            "|(11,[0,1,2,4,7,10...|     0|\n",
            "|[726.0,24.0,6.0,0...|     0|\n",
            "+--------------------+------+\n",
            "only showing top 20 rows\n",
            "\n"
          ]
        }
      ],
      "source": [
        "feature_cols = [\"credit_score\", \"age\", \"tenure\", \"balance\", \"products_number\", \"credit_card\", \"active_member\", \"estimated_salary\", \"country_vec\", \"gender_vec\"]\n",
        "assembler = VectorAssembler(inputCols=feature_cols, outputCol=\"features\")\n",
        "transformed_df = assembler.transform(df_spark)\n",
        "\n",
        "# Oznaczenie kolumny churn jako target\n",
        "transformed_df = transformed_df.withColumn(\"target\", col(\"churn\"))\n",
        "\n",
        "transformed_df.select(\"features\", \"target\").show()\n"
      ]
    },
    {
      "cell_type": "markdown",
      "metadata": {
        "id": "HS76g5PijWMS"
      },
      "source": [
        "### **Inicjalizacja modelu drzewa decyzyjnego**"
      ]
    },
    {
      "cell_type": "code",
      "execution_count": 36,
      "metadata": {
        "id": "wsoaZViFSIHc"
      },
      "outputs": [],
      "source": [
        "tree_classifier = DecisionTreeClassifier(featuresCol=\"features\", labelCol=\"target\", maxDepth=1, seed=101, minInstancesPerNode=2)"
      ]
    },
    {
      "cell_type": "markdown",
      "metadata": {
        "id": "vhSyzM4sjPCs"
      },
      "source": [
        "### **Podział na zbiór treningowy i testowy**"
      ]
    },
    {
      "cell_type": "code",
      "execution_count": 37,
      "metadata": {
        "id": "hX3RycCAjOl8",
        "colab": {
          "base_uri": "https://localhost:8080/"
        },
        "outputId": "fb1152c7-0f77-435a-863e-0faacf079bdf"
      },
      "outputs": [
        {
          "output_type": "stream",
          "name": "stdout",
          "text": [
            "Liczba wierszy w zbiorze treningowym: 8079\n",
            "Liczba wierszy w zbiorze testowym: 1921\n"
          ]
        }
      ],
      "source": [
        "train_data, test_data = transformed_df.randomSplit([0.8, 0.2], seed=42)\n",
        "\n",
        "print(\"Liczba wierszy w zbiorze treningowym:\", train_data.count())\n",
        "print(\"Liczba wierszy w zbiorze testowym:\", test_data.count())"
      ]
    },
    {
      "cell_type": "markdown",
      "metadata": {
        "id": "XTrwScqmjevQ"
      },
      "source": [
        "### **Dopasowanie modelu do danych treningowych**\n",
        "\n",
        "\n",
        "\n"
      ]
    },
    {
      "cell_type": "code",
      "execution_count": 38,
      "metadata": {
        "id": "APC6A8HrSRdu"
      },
      "outputs": [],
      "source": [
        "tree_model = tree_classifier.fit(train_data)"
      ]
    },
    {
      "cell_type": "markdown",
      "metadata": {
        "id": "8EJTo8rXjmhI"
      },
      "source": [
        "### **Prognozowanie na danych testowych**"
      ]
    },
    {
      "cell_type": "code",
      "execution_count": 39,
      "metadata": {
        "id": "lqoeplexSamn"
      },
      "outputs": [],
      "source": [
        "tree_model_predictions = tree_model.transform(test_data)"
      ]
    },
    {
      "cell_type": "markdown",
      "metadata": {
        "id": "mo2LPy7YjtYj"
      },
      "source": [
        "### **Ocena modelu**"
      ]
    },
    {
      "cell_type": "code",
      "execution_count": 40,
      "metadata": {
        "id": "5yNZucDoSenk",
        "colab": {
          "base_uri": "https://localhost:8080/"
        },
        "outputId": "e154b3a2-f73d-41b4-8c84-347401a56fd9"
      },
      "outputs": [
        {
          "output_type": "stream",
          "name": "stdout",
          "text": [
            "Accuracy: 0.7886517438833941\n"
          ]
        }
      ],
      "source": [
        "evaluator_precision_d = MulticlassClassificationEvaluator(labelCol=\"target\", metricName=\"accuracy\")\n",
        "accuracy = evaluator_precision_d.evaluate(tree_model_predictions)\n",
        "\n",
        "print(f\"Accuracy: {accuracy}\")"
      ]
    },
    {
      "cell_type": "markdown",
      "metadata": {
        "id": "vQ13GXj6TnoI"
      },
      "source": [
        " Model osiągnął dokładność na poziomie około 78.87%, co oznacza, że około 78.87% przypadków w zbiorze testowym zostało poprawnie sklasyfikowanych."
      ]
    },
    {
      "cell_type": "code",
      "execution_count": 41,
      "metadata": {
        "id": "o5LsEtT4S0Iv",
        "colab": {
          "base_uri": "https://localhost:8080/"
        },
        "outputId": "492b763a-06e7-4bf6-c708-546e0f50c8e5"
      },
      "outputs": [
        {
          "output_type": "stream",
          "name": "stdout",
          "text": [
            "Precision: 0.6219715731303186\n"
          ]
        }
      ],
      "source": [
        "evaluator_precision_d = MulticlassClassificationEvaluator(labelCol=\"target\", metricName=\"weightedPrecision\")\n",
        "precision = evaluator_precision_d.evaluate(tree_model_predictions)\n",
        "print(f\"Precision: {precision}\")"
      ]
    },
    {
      "cell_type": "markdown",
      "metadata": {
        "id": "rAatB-39TpGV"
      },
      "source": [
        "Precyzja wynosi około 62.2%, co oznacza, że spośród przypadków, które model sklasyfikował jako pozytywne, tylko około 62.2% to rzeczywiście prawdziwie pozytywne przypadki."
      ]
    },
    {
      "cell_type": "code",
      "execution_count": 42,
      "metadata": {
        "id": "eCv-4nUsS7R9",
        "colab": {
          "base_uri": "https://localhost:8080/"
        },
        "outputId": "944280b9-3d51-43c2-d91e-1a7df3eee7b1"
      },
      "outputs": [
        {
          "output_type": "stream",
          "name": "stdout",
          "text": [
            "Confusion Matrix:\n",
            "[[1515.    0.]\n",
            " [ 406.    0.]]\n"
          ]
        }
      ],
      "source": [
        "prediction_and_label_d = tree_model_predictions.select(\"prediction\", \"target\").rdd.map(lambda x: (float(x[\"prediction\"]), float(x[\"target\"])))\n",
        "metrics = MulticlassMetrics(prediction_and_label_d)\n",
        "confusion_matrix = metrics.confusionMatrix().toArray()\n",
        "print(f\"Confusion Matrix:\\n{confusion_matrix}\")"
      ]
    },
    {
      "cell_type": "markdown",
      "metadata": {
        "id": "rQIyeqgZTsQV"
      },
      "source": [
        "Model drzewa decyzyjnego uzyskał następujące wyniki w macierzy pomyłek: 1515 poprawnych przewidywań braku odejścia klientów (True Negatives), 0 przypadków błędnych przewidywań braku odejścia (False Positives), 0 przypadków poprawnych przewidywań odejścia (True Positives) oraz 406 przypadki błędnych przewidywań odejścia (False Negatives). Wynik ten sugeruje, że model może mieć trudności w identyfikacji klientów, którzy faktycznie odejdą, co wymaga dalszej analizy i dostosowywania parametrów modelu."
      ]
    },
    {
      "cell_type": "markdown",
      "metadata": {
        "id": "CuJ6UTc6ovFR"
      },
      "source": [
        "### **Optymalizacja Hiperparametrów dla Modelu Drzewa Decyzyjnego**"
      ]
    },
    {
      "cell_type": "code",
      "execution_count": 43,
      "metadata": {
        "id": "rBL-ixxZVNJs"
      },
      "outputs": [],
      "source": [
        "dt_classifier = DecisionTreeClassifier(featuresCol=\"features\", labelCol=\"target\")\n",
        "\n",
        "pipeline = Pipeline(stages=[dt_classifier])\n",
        "\n",
        "param_grid = ParamGridBuilder().addGrid(dt_classifier.maxDepth, [1, 2, 3, 4, 5, 7, 10, 12]) \\\n",
        "                                .addGrid(dt_classifier.minInstancesPerNode, [1, 2, 3, 4, 5, 6, 8, 10]) \\\n",
        "                                .build()\n",
        "\n",
        "cross_validator = CrossValidator(estimator=pipeline,\n",
        "                                 estimatorParamMaps=param_grid,\n",
        "                                 evaluator=MulticlassClassificationEvaluator(labelCol=\"target\", predictionCol=\"prediction\", metricName=\"accuracy\"),\n",
        "                                 numFolds=5)\n"
      ]
    },
    {
      "cell_type": "markdown",
      "metadata": {
        "id": "zpzYFotczpZx"
      },
      "source": [
        "### **Dopasowanie modelu za pomocą kroswalidacji na danych treningowych**"
      ]
    },
    {
      "cell_type": "code",
      "execution_count": 44,
      "metadata": {
        "id": "_RX6rxcDznVa"
      },
      "outputs": [],
      "source": [
        "cv_model = cross_validator.fit(train_data)"
      ]
    },
    {
      "cell_type": "markdown",
      "metadata": {
        "id": "1vmUjrFxzuGb"
      },
      "source": [
        "### **Prognozowanie na danych testowych**"
      ]
    },
    {
      "cell_type": "code",
      "execution_count": 45,
      "metadata": {
        "id": "atsqqpNYzupa"
      },
      "outputs": [],
      "source": [
        "predictions = cv_model.transform(test_data)"
      ]
    },
    {
      "cell_type": "markdown",
      "metadata": {
        "id": "jBSCtJmXo1q1"
      },
      "source": [
        "### **Ocena dokładności modelu na danych testowych**"
      ]
    },
    {
      "cell_type": "code",
      "execution_count": 46,
      "metadata": {
        "id": "Z83oLnLZo2Jp",
        "colab": {
          "base_uri": "https://localhost:8080/"
        },
        "outputId": "932090bc-a1b1-4fa5-82f2-5134f6deaf28"
      },
      "outputs": [
        {
          "output_type": "stream",
          "name": "stdout",
          "text": [
            "Accuracy: 0.8459135866736075\n"
          ]
        }
      ],
      "source": [
        "accuracy = MulticlassClassificationEvaluator(labelCol=\"target\", predictionCol=\"prediction\", metricName=\"accuracy\").evaluate(predictions)\n",
        "print(\"Accuracy:\", accuracy)\n"
      ]
    },
    {
      "cell_type": "code",
      "execution_count": 47,
      "metadata": {
        "id": "Yu9-SDMmWU5U",
        "colab": {
          "base_uri": "https://localhost:8080/"
        },
        "outputId": "25e4a4a6-bdb0-40b3-9ef5-ff6ca221a156"
      },
      "outputs": [
        {
          "output_type": "stream",
          "name": "stdout",
          "text": [
            "Precision: 0.8459135866736075\n"
          ]
        }
      ],
      "source": [
        "correct_predictions = predictions.filter(col(\"target\") == col(\"prediction\")).count()\n",
        "total_predictions = predictions.count()\n",
        "precision = correct_predictions / total_predictions\n",
        "print(\"Precision:\", precision)"
      ]
    },
    {
      "cell_type": "code",
      "execution_count": 48,
      "metadata": {
        "id": "vpQ76mVOWWwP",
        "colab": {
          "base_uri": "https://localhost:8080/"
        },
        "outputId": "00051dff-2b7b-4801-a555-4af7d0a1f174"
      },
      "outputs": [
        {
          "output_type": "stream",
          "name": "stdout",
          "text": [
            "Confusion Matrix:\n",
            "DenseMatrix([[1449.,   66.],\n",
            "             [ 230.,  176.]])\n"
          ]
        }
      ],
      "source": [
        "prediction_and_label = predictions.select(\"prediction\", \"target\").rdd.map(lambda x: (float(x[0]), float(x[1])))\n",
        "metrics = MulticlassMetrics(prediction_and_label)\n",
        "confusion_matrix = metrics.confusionMatrix()\n",
        "print(\"Confusion Matrix:\")\n",
        "print(confusion_matrix)"
      ]
    },
    {
      "cell_type": "code",
      "execution_count": 49,
      "metadata": {
        "id": "4udIGbWwWhqg",
        "colab": {
          "base_uri": "https://localhost:8080/"
        },
        "outputId": "2217de0f-2b35-403b-d1e1-336c1c72c4f6"
      },
      "outputs": [
        {
          "output_type": "stream",
          "name": "stdout",
          "text": [
            "Best Max Depth: 7\n",
            "Best Min Instances Per Node: 6\n"
          ]
        }
      ],
      "source": [
        "best_model = cv_model.bestModel\n",
        "\n",
        "best_max_depth = best_model.stages[0].getOrDefault(\"maxDepth\")\n",
        "best_min_instances_per_node = best_model.stages[0].getOrDefault(\"minInstancesPerNode\")\n",
        "\n",
        "print(f\"Best Max Depth: {best_max_depth}\")\n",
        "print(f\"Best Min Instances Per Node: {best_min_instances_per_node}\")"
      ]
    },
    {
      "cell_type": "markdown",
      "metadata": {
        "id": "eSe8NWzWXSc6"
      },
      "source": [
        "\n",
        "Otrzymano model drzewa decyzyjnego, którego skuteczność (accuracy) wynosi około 84,6%. Precyzja (precision) modelu, czyli stosunek prawdziwie pozytywnych przewidywań do wszystkich pozytywnych przewidywań, także wynosi około 84,6%.\n",
        "\n",
        "Macierz pomyłek (confusion matrix) przedstawia rozkład wyników klasyfikacji:\n",
        "\n",
        "1449 prawdziwie negatywne przypadki (TN),\n",
        "\n",
        "66 fałszywie pozytywne przypadki (FP),\n",
        "\n",
        "230 fałszywie negatywne przypadki (FN),\n",
        "\n",
        "176 prawdziwie pozytywne przypadki (TP).\n",
        "\n",
        "Rekomendowane hiperparametry dla tego modelu to głębokość drzewa równa 7 oraz minimalna liczba instancji w węźle równa 6."
      ]
    },
    {
      "cell_type": "markdown",
      "metadata": {
        "id": "cZZgbl2_r-D9"
      },
      "source": [
        "# **Porównanie algorytmów**\n",
        "\n",
        "\n"
      ]
    },
    {
      "cell_type": "markdown",
      "metadata": {
        "id": "1rpqIWshsEjI"
      },
      "source": [
        "Dokładność: Drzewo decyzyjne osiągnęło wyższą dokładność (84.6%) w porównaniu do regresji logistycznej (79.12%).\n",
        "\n",
        "Precyzja: Drzewo decyzyjne ponownie osiągnęło wyższą precyzję (84.6% dla drzewa decyzyjnego, 71.1% dla regresji logistycznej).\n",
        "\n",
        "Macierz Pomyłek: Drzewo decyzyjne wydaje się lepiej radzić sobie z identyfikacją przypadków odejścia klienta, co widoczne jest w niższej liczbie False Negative.\n",
        "\n",
        "Podsumowując, drzewo decyzyjne wydaje się być bardziej skutecznym modelem w identyfikacji przypadków odejścia klienta, uzyskując wyższą dokładność i lepszą precyzję w porównaniu do regresji logistycznej."
      ]
    }
  ],
  "metadata": {
    "colab": {
      "provenance": [],
      "include_colab_link": true
    },
    "kernelspec": {
      "display_name": "Python 3",
      "name": "python3"
    },
    "language_info": {
      "name": "python"
    }
  },
  "nbformat": 4,
  "nbformat_minor": 0
}